{
 "cells": [
  {
   "cell_type": "code",
   "execution_count": null,
   "id": "bronze-purse",
   "metadata": {},
   "outputs": [],
   "source": [
    "import matplotlib.pyplot as plt\n",
    "\n",
    "# run submodules\n",
    "%run ./prepare.ipynb\n",
    "%run ./processing.ipynb\n",
    "%run ./classifiers.ipynb"
   ]
  },
  {
   "cell_type": "code",
   "execution_count": null,
   "id": "framed-flush",
   "metadata": {},
   "outputs": [],
   "source": [
    "# open edf file\n",
    "visual_edf = open_visual_edf('Sazanovazrf_och.edf')"
   ]
  },
  {
   "cell_type": "code",
   "execution_count": null,
   "id": "thirty-politics",
   "metadata": {},
   "outputs": [],
   "source": [
    "# extract sectors\n",
    "sectors, labels = new_extract_strict_sectors(visual_edf)"
   ]
  },
  {
   "cell_type": "code",
   "execution_count": null,
   "id": "distributed-oxford",
   "metadata": {},
   "outputs": [],
   "source": [
    "# select channels\n",
    "visual_channels = subselect_channels(visual_edf)"
   ]
  },
  {
   "cell_type": "code",
   "execution_count": null,
   "id": "piano-investing",
   "metadata": {},
   "outputs": [],
   "source": [
    "# extract sectors\n",
    "visual_sectors, _ = extract_sectors(visual_edf) "
   ]
  },
  {
   "cell_type": "code",
   "execution_count": null,
   "id": "deadly-representative",
   "metadata": {},
   "outputs": [],
   "source": [
    "# get labels and splitted_channels\n",
    "visual_labels, visual_lengths, visual_durations, visual_splitted = split_sectors(visual_edf, visual_channels, sectors)"
   ]
  },
  {
   "cell_type": "code",
   "execution_count": null,
   "id": "broad-bermuda",
   "metadata": {},
   "outputs": [],
   "source": [
    "splitted = visual_splitted.copy()\n",
    "labels = visual_labels.copy()"
   ]
  },
  {
   "cell_type": "code",
   "execution_count": null,
   "id": "economic-mechanism",
   "metadata": {},
   "outputs": [],
   "source": [
    "n_channels = len(splitted)\n",
    "n_phonems = len(labels)"
   ]
  },
  {
   "cell_type": "code",
   "execution_count": null,
   "id": "republican-calculator",
   "metadata": {},
   "outputs": [],
   "source": [
    "# create dataset\n",
    "X_channels = []\n",
    "for i in range(n_phonems):\n",
    "    phonem = []\n",
    "    for j in range(600):\n",
    "        point = [splitted[0][i][j], splitted[1][i][j], splitted[2][i][j], splitted[3][i][j]]\n",
    "        phonem.append(point)\n",
    "    X_channels.append(phonem)"
   ]
  },
  {
   "cell_type": "code",
   "execution_count": null,
   "id": "optical-genealogy",
   "metadata": {},
   "outputs": [],
   "source": [
    "# plot graphs (data augmentation visualization)\n",
    "plt.xlabel('время (мс)')\n",
    "plt.ylabel('потенциал')\n",
    "plt.plot(splitted[0][0])"
   ]
  },
  {
   "cell_type": "code",
   "execution_count": null,
   "id": "external-field",
   "metadata": {},
   "outputs": [],
   "source": [
    "def example_add_noise(channel):\n",
    "    noise = np.random.normal(0, 0.000002, 700)\n",
    "    return [i + j for i, j in zip(noise, channel)]"
   ]
  },
  {
   "cell_type": "code",
   "execution_count": null,
   "id": "consistent-bridges",
   "metadata": {},
   "outputs": [],
   "source": [
    "plt.xlabel('время (мс)')\n",
    "plt.ylabel('потенциал')\n",
    "plt.plot(example_add_noise(splitted[0][0]))"
   ]
  },
  {
   "cell_type": "code",
   "execution_count": null,
   "id": "twenty-multimedia",
   "metadata": {},
   "outputs": [],
   "source": [
    "# augment data with Gaussian noise\n",
    "X_channels_noised = add_noise(X_channels)"
   ]
  },
  {
   "cell_type": "code",
   "execution_count": null,
   "id": "configured-arthritis",
   "metadata": {},
   "outputs": [],
   "source": [
    "from sklearn.model_selection import train_test_split"
   ]
  },
  {
   "cell_type": "code",
   "execution_count": null,
   "id": "incorrect-flight",
   "metadata": {},
   "outputs": [],
   "source": [
    "X_new = X_channels_noised.copy()\n",
    "labels_new = visual_labels.copy() * 2"
   ]
  },
  {
   "cell_type": "code",
   "execution_count": null,
   "id": "spread-description",
   "metadata": {},
   "outputs": [],
   "source": [
    "# test model\n",
    "from sklearn.model_selection import cross_val_score\n",
    "clf = CrossValKNN()\n",
    "X_train, X_test, y_train, y_test = train_test_split(X_new, labels_new, test_size=0.2)\n",
    "clf.fit(X_train.copy(), y_train.copy())\n",
    "y_pred = clf.predict(X_test.copy())"
   ]
  },
  {
   "cell_type": "code",
   "execution_count": null,
   "id": "square-offset",
   "metadata": {},
   "outputs": [],
   "source": [
    "# get classification report\n",
    "from sklearn.metrics import classification_report\n",
    "print(classification_report(y_pred, y_test))"
   ]
  }
 ],
 "metadata": {
  "kernelspec": {
   "display_name": "Python 3 (ipykernel)",
   "language": "python",
   "name": "python3"
  },
  "language_info": {
   "codemirror_mode": {
    "name": "ipython",
    "version": 3
   },
   "file_extension": ".py",
   "mimetype": "text/x-python",
   "name": "python",
   "nbconvert_exporter": "python",
   "pygments_lexer": "ipython3",
   "version": "3.10.7"
  }
 },
 "nbformat": 4,
 "nbformat_minor": 5
}
