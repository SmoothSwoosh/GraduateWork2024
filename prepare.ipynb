{
 "cells": [
  {
   "cell_type": "code",
   "execution_count": 2,
   "id": "drawn-wagner",
   "metadata": {},
   "outputs": [],
   "source": [
    "import numpy as np\n",
    "import pandas as pd\n",
    "from scipy import stats"
   ]
  },
  {
   "cell_type": "code",
   "execution_count": 3,
   "id": "relative-sense",
   "metadata": {},
   "outputs": [],
   "source": [
    "def custom_train_test_split(X, labels, test_size):\n",
    "    X_train, X_test, y_train, y_test = [], [], [], []\n",
    "    excessed = {i: int((1 - test_size)*labels.count(i)) for i in [6, 7]}\n",
    "    n_phonems = len(labels)\n",
    "    \n",
    "    for i in range(n_phonems):\n",
    "        if len(X[i]) > 700:\n",
    "            continue\n",
    "        phonem = labels[i]\n",
    "        if phonem in excessed.keys():\n",
    "            if excessed[phonem] > 0:\n",
    "                excessed[phonem] -= 1\n",
    "                X_train.append(X[i].copy())\n",
    "                y_train.append(phonem)\n",
    "            else:\n",
    "                X_test.append(X[i].copy())\n",
    "                y_test.append(phonem)\n",
    "    \n",
    "    return X_train, X_test, np.array(y_train), np.array(y_test)"
   ]
  },
  {
   "cell_type": "code",
   "execution_count": 4,
   "id": "expected-sister",
   "metadata": {},
   "outputs": [],
   "source": [
    "def custom_sort(x, y):\n",
    "    n_channels = len(x)\n",
    "    X, labels = [], []\n",
    "    \n",
    "    for i in range(n_channels):\n",
    "        X.append([x for _, x in sorted(zip(y, x[i]), key=lambda pair:pair[0])])\n",
    "    labels = sorted(y)\n",
    "    \n",
    "    return X, labels"
   ]
  },
  {
   "cell_type": "code",
   "execution_count": 5,
   "id": "attended-mineral",
   "metadata": {},
   "outputs": [],
   "source": [
    "def perform_slicing(x, y):\n",
    "    n_channels = len(x)\n",
    "    X, labels = [], []\n",
    "    \n",
    "    for i in range(n_channels):\n",
    "        sub = []\n",
    "        for j in range(len(x[i])):\n",
    "            chunk = len(x[i][j]) // 20\n",
    "            sub.extend([x[i][j][k:k+chunk] for k in range(0, len(x[i][j])-chunk+1, chunk)])\n",
    "            if i == 0 or i == 5:\n",
    "                phonem = y[len(x[0])*(i==5) + j]\n",
    "                labels.extend([phonem] * 20)\n",
    "        X.append(sub)\n",
    "    \n",
    "    return X, labels"
   ]
  },
  {
   "cell_type": "code",
   "execution_count": 9,
   "id": "f0e7a566-c50b-49d8-a51e-d829ceec4db9",
   "metadata": {},
   "outputs": [],
   "source": [
    "def threshold_cut(x):\n",
    "    x_oz, x_fpz = x[-2].copy(), x[-1].copy()\n",
    "    \n",
    "    def find_endpoints(t_series):\n",
    "        zcr = 0\n",
    "        delta = 10\n",
    "        start, end = None, None\n",
    "        \n",
    "        for i in range(delta - 1):\n",
    "            zcr += t_series[i] * t_series[i + 1] < 0\n",
    "        \n",
    "        consecutive_up = 0\n",
    "        consecutive_down = 0\n",
    "        threshold = zcr * 5 / 4\n",
    "        for i in range(delta - 1, len(t_series) - 1):\n",
    "            zcr += t_series[i] * t_series[i + 1] < 0\n",
    "            zcr -= t_series[i - delta] * t_series[i - delta + 1] < 0\n",
    "            consecutive_down += zcr < threshold\n",
    "            consecutive_up += zcr >= threshold\n",
    "            if consecutive_down >= 10 and not start:\n",
    "                start = i\n",
    "            if consecutive_up >= 10 and not end:\n",
    "                end = i\n",
    "        \n",
    "        return start, end\n",
    "    \n",
    "    start_1, end_1 = find_endpoints(x_oz)\n",
    "    start_2, end_2 = find_endpoints(x_fpz)\n",
    "    start = (start_1 + start_2) // 2\n",
    "    end = (end_1 + end_2) // 2\n",
    "    \n",
    "    cutted_x = []\n",
    "    for one_dim_series in x:\n",
    "        cutted_x.append(one_dim_series[start:end])\n",
    "        \n",
    "    return cutted_x"
   ]
  },
  {
   "cell_type": "code",
   "execution_count": 7,
   "id": "statutory-transcript",
   "metadata": {},
   "outputs": [],
   "source": [
    "def add_noise(X_channels):\n",
    "    new_chan = X_channels.copy()\n",
    "    X_channels_noised = []\n",
    "    n_phonems = len(X_channels)\n",
    "    \n",
    "    #create noise\n",
    "    noise = np.random.normal(0, 0.000002, 700)\n",
    "    \n",
    "    for i in range(n_phonems):\n",
    "        noisy = new_chan[i].copy()\n",
    "        for j in range(len(noisy)):\n",
    "            for k in range(4):\n",
    "                noisy[j][k] += noise[j]\n",
    "            \n",
    "        X_channels_noised.append(noisy)\n",
    "    \n",
    "    X_channels_noised.extend(X_channels.copy())\n",
    "    \n",
    "    return X_channels_noised"
   ]
  }
 ],
 "metadata": {
  "kernelspec": {
   "display_name": "Python 3 (ipykernel)",
   "language": "python",
   "name": "python3"
  },
  "language_info": {
   "codemirror_mode": {
    "name": "ipython",
    "version": 3
   },
   "file_extension": ".py",
   "mimetype": "text/x-python",
   "name": "python",
   "nbconvert_exporter": "python",
   "pygments_lexer": "ipython3",
   "version": "3.10.7"
  }
 },
 "nbformat": 4,
 "nbformat_minor": 5
}
